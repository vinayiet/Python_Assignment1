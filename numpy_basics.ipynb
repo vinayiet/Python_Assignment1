{
 "cells": [
  {
   "cell_type": "code",
   "execution_count": 1,
   "id": "e4021be6",
   "metadata": {},
   "outputs": [
    {
     "name": "stdout",
     "output_type": "stream",
     "text": [
      "Hello\n"
     ]
    }
   ],
   "source": [
    "print('Hello')"
   ]
  },
  {
   "cell_type": "code",
   "execution_count": null,
   "id": "f6088332",
   "metadata": {},
   "outputs": [],
   "source": [
    "# Numpy is the python library which is used for scientic calculation..and this is basically made for the working the arrays.."
   ]
  },
  {
   "cell_type": "code",
   "execution_count": null,
   "id": "5f50a9a5",
   "metadata": {},
   "outputs": [],
   "source": [
    "# !pip install numpy installing the numpy -> "
   ]
  },
  {
   "cell_type": "code",
   "execution_count": 2,
   "id": "fdf41958",
   "metadata": {},
   "outputs": [],
   "source": [
    "import numpy as np "
   ]
  },
  {
   "cell_type": "code",
   "execution_count": 3,
   "id": "860953df",
   "metadata": {},
   "outputs": [
    {
     "name": "stdout",
     "output_type": "stream",
     "text": [
      "1.26.4\n"
     ]
    }
   ],
   "source": [
    "print(np.__version__)"
   ]
  },
  {
   "cell_type": "code",
   "execution_count": null,
   "id": "dc46ebc1",
   "metadata": {},
   "outputs": [],
   "source": [
    "# 1D array -> [1,2,3,4,5]\n",
    "# 2D array -> [[1,2,3,4], [5,6,7]]"
   ]
  },
  {
   "cell_type": "code",
   "execution_count": 5,
   "id": "bfc47489",
   "metadata": {},
   "outputs": [
    {
     "name": "stdout",
     "output_type": "stream",
     "text": [
      "[1 2 3 4]\n"
     ]
    },
    {
     "data": {
      "text/plain": [
       "numpy.ndarray"
      ]
     },
     "execution_count": 5,
     "metadata": {},
     "output_type": "execute_result"
    }
   ],
   "source": [
    "arr = np.array([1,2,3,4])\n",
    "print(arr)\n",
    "\n",
    "type(arr)"
   ]
  },
  {
   "cell_type": "code",
   "execution_count": 6,
   "id": "7cd5ca58",
   "metadata": {},
   "outputs": [
    {
     "name": "stdout",
     "output_type": "stream",
     "text": [
      "[[0. 0. 0.]\n",
      " [0. 0. 0.]\n",
      " [0. 0. 0.]]\n"
     ]
    }
   ],
   "source": [
    "# np.zeros() -> matrix n * m dimension -> 3 * 3\n",
    "\n",
    "zero_array = np.zeros((3,3))\n",
    "print(zero_array)"
   ]
  },
  {
   "cell_type": "code",
   "execution_count": 7,
   "id": "11d85ec9",
   "metadata": {},
   "outputs": [
    {
     "name": "stdout",
     "output_type": "stream",
     "text": [
      "[[1. 1. 1.]\n",
      " [1. 1. 1.]\n",
      " [1. 1. 1.]]\n"
     ]
    }
   ],
   "source": [
    "# Creating the ones matrix \n",
    "ones_array = np.ones((3,3))\n",
    "print(ones_array)"
   ]
  },
  {
   "cell_type": "code",
   "execution_count": 8,
   "id": "a9e7c1e5",
   "metadata": {},
   "outputs": [
    {
     "name": "stdout",
     "output_type": "stream",
     "text": [
      "[1 2 3 4 5]\n"
     ]
    }
   ],
   "source": [
    "# creating array of a range \n",
    "my_arr = np.arange(1,6)\n",
    "print(my_arr)"
   ]
  },
  {
   "cell_type": "code",
   "execution_count": 11,
   "id": "87914b4a",
   "metadata": {},
   "outputs": [
    {
     "name": "stdout",
     "output_type": "stream",
     "text": [
      "[1.         1.44444444 1.88888889 2.33333333 2.77777778 3.22222222\n",
      " 3.66666667 4.11111111 4.55555556 5.        ]\n"
     ]
    }
   ],
   "source": [
    "# Creating a 1d array using lispace\n",
    "arr2 = np.linspace(1, 5, 10)\n",
    "print(arr2)"
   ]
  },
  {
   "cell_type": "code",
   "execution_count": 12,
   "id": "87b787d5",
   "metadata": {},
   "outputs": [
    {
     "name": "stdout",
     "output_type": "stream",
     "text": [
      "[[1 2 3]\n",
      " [4 5 6]]\n"
     ]
    }
   ],
   "source": [
    "# Creating 2d Array using numpy\n",
    "arr3 = np.array([[1,2,3], [4,5,6]])\n",
    "print(arr3)"
   ]
  },
  {
   "cell_type": "code",
   "execution_count": null,
   "id": "d492cf9b",
   "metadata": {},
   "outputs": [
    {
     "name": "stdout",
     "output_type": "stream",
     "text": [
      "[[1 2 3]\n",
      " [3 4 5]\n",
      " [6 7 8]]\n"
     ]
    },
    {
     "data": {
      "text/plain": [
       "numpy.ndarray"
      ]
     },
     "execution_count": 15,
     "metadata": {},
     "output_type": "execute_result"
    }
   ],
   "source": [
    "li = [[1,2,3], [3,4,5], [6,7,8]]\n",
    "my_2d_arr = np.array(li)\n",
    "print(my_2d_arr)\n",
    "type(my_2d_arr)\n"
   ]
  },
  {
   "cell_type": "code",
   "execution_count": 16,
   "id": "6b449a6e",
   "metadata": {},
   "outputs": [
    {
     "name": "stdout",
     "output_type": "stream",
     "text": [
      "[[0. 0. 0. 0.]\n",
      " [0. 0. 0. 0.]\n",
      " [0. 0. 0. 0.]]\n"
     ]
    }
   ],
   "source": [
    "# Creating a 2d array with zeros \n",
    "zero_arr = np.zeros((3,4))\n",
    "print(zero_arr)"
   ]
  },
  {
   "cell_type": "code",
   "execution_count": 17,
   "id": "3a5ab27e",
   "metadata": {},
   "outputs": [
    {
     "name": "stdout",
     "output_type": "stream",
     "text": [
      "[[[ 1  2  3]\n",
      "  [ 3  4  5]]\n",
      "\n",
      " [[ 6  7  8]\n",
      "  [ 8  9 10]]]\n"
     ]
    }
   ],
   "source": [
    "import numpy as np\n",
    "arr = np.array([[[1,2,3], [3,4,5]],[[6,7,8], [8, 9, 10]] ])\n",
    "print(arr)"
   ]
  },
  {
   "cell_type": "code",
   "execution_count": 18,
   "id": "5f03ac7e",
   "metadata": {},
   "outputs": [
    {
     "data": {
      "text/plain": [
       "numpy.ndarray"
      ]
     },
     "execution_count": 18,
     "metadata": {},
     "output_type": "execute_result"
    }
   ],
   "source": [
    "li2 = [[[1,2,3], [3,4,5]],[[6,7,8], [8, 9, 10]] ]\n",
    "arr_3d = np.array(li2)\n",
    "type(arr_3d)"
   ]
  },
  {
   "cell_type": "code",
   "execution_count": 19,
   "id": "3346f6c2",
   "metadata": {},
   "outputs": [
    {
     "name": "stdout",
     "output_type": "stream",
     "text": [
      "[[[0.91025678 0.95142548 0.81938695]\n",
      "  [0.09783118 0.62795609 0.28822335]\n",
      "  [0.58863605 0.84697055 0.70360473]]\n",
      "\n",
      " [[0.67994361 0.53508235 0.5168178 ]\n",
      "  [0.276446   0.04866556 0.24289013]\n",
      "  [0.46217812 0.77157937 0.92896476]]]\n"
     ]
    }
   ],
   "source": [
    "random_value_arr = np.random.rand(2, 3, 3)\n",
    "print(random_value_arr)"
   ]
  },
  {
   "cell_type": "code",
   "execution_count": null,
   "id": "95cec077",
   "metadata": {},
   "outputs": [],
   "source": []
  }
 ],
 "metadata": {
  "kernelspec": {
   "display_name": "base",
   "language": "python",
   "name": "python3"
  },
  "language_info": {
   "codemirror_mode": {
    "name": "ipython",
    "version": 3
   },
   "file_extension": ".py",
   "mimetype": "text/x-python",
   "name": "python",
   "nbconvert_exporter": "python",
   "pygments_lexer": "ipython3",
   "version": "3.12.4"
  }
 },
 "nbformat": 4,
 "nbformat_minor": 5
}
