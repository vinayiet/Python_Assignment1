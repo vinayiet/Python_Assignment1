{
 "cells": [
  {
   "cell_type": "code",
   "execution_count": null,
   "id": "5a852c1a",
   "metadata": {},
   "outputs": [],
   "source": [
    "#Numpy basically stands for the numerical python -> all the numerical computation which take more to calculate this library basically provide that effiecient way to calculate all the calculation.\n",
    "\n",
    "# 1. Basically fast and effiecient.\n",
    "# 2. takes less memory."
   ]
  },
  {
   "cell_type": "code",
   "execution_count": null,
   "id": "a4b96c79",
   "metadata": {},
   "outputs": [],
   "source": [
    "!pip install numpy "
   ]
  },
  {
   "cell_type": "code",
   "execution_count": 1,
   "id": "b0d99615",
   "metadata": {},
   "outputs": [],
   "source": [
    "import numpy as np "
   ]
  },
  {
   "cell_type": "code",
   "execution_count": null,
   "id": "570e5e5e",
   "metadata": {},
   "outputs": [
    {
     "name": "stdout",
     "output_type": "stream",
     "text": [
      "[1, 2, 3, 4]\n",
      "[1 2 3 4]\n"
     ]
    }
   ],
   "source": [
    "my_list = [1,2,3,4]\n",
    "print(my_list)\n",
    "# more time consume for running \n",
    "\n",
    "# less time \n",
    "my_array = np.array([1,2,3,4])\n",
    "print(my_array)"
   ]
  },
  {
   "cell_type": "code",
   "execution_count": null,
   "id": "cfb3f603",
   "metadata": {},
   "outputs": [],
   "source": [
    "import time \n",
    "\n",
    "li = (range(1000))\n",
    "start = time.time()\n",
    "\n",
    "\n",
    "l2 = [x * 2 for x in li]\n",
    "print('Time for the python list:', time.time() - start)\n",
    "\n",
    "# Numpy array \n",
    "arr = np.arange(100)"
   ]
  }
 ],
 "metadata": {
  "kernelspec": {
   "display_name": "base",
   "language": "python",
   "name": "python3"
  },
  "language_info": {
   "codemirror_mode": {
    "name": "ipython",
    "version": 3
   },
   "file_extension": ".py",
   "mimetype": "text/x-python",
   "name": "python",
   "nbconvert_exporter": "python",
   "pygments_lexer": "ipython3",
   "version": "3.12.4"
  }
 },
 "nbformat": 4,
 "nbformat_minor": 5
}
